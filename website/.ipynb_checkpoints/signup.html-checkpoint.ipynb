{
 "cells": [
  {
   "cell_type": "code",
   "execution_count": null,
   "metadata": {
    "collapsed": true
   },
   "outputs": [],
   "source": [
    "{% extends \"header.html\" %}\n",
    "\n",
    "{% block body %}\n",
    "\n",
    "<body>\n",
    "    <div class=\"container\">\n",
    "        <h4>Register</h4>\n",
    "        <br>\n",
    "        {% from \"_formhelpers.html\" import render_field %}\n",
    "        <form method=post action=\"/signup/\">\n",
    "\t\t\t<dl>\n",
    "\t\t\t\t{{render_field(form.username)}}\n",
    "\t\t\t\t{{render_field(form.email)}}\n",
    "\t\t\t\t{{render_field(form.password)}}\n",
    "\t\t\t\t{{render_field(form.confirm)}}\n",
    "\t\t\t\t{{render_field(form.accept_tos)}}\n",
    "\t\t\t</dl>\n",
    "\t\t\t<p><input type=submit value=Register></p>\n",
    "\t\t</form>\n",
    "\n",
    "\t\t{% if error %}\n",
    "\t\t\t<p class=\"error\"><strong>Error:</strong>{{error}}</p>\n",
    "\t\t{% endif %}\n",
    "\n",
    "\n",
    "    </div>\n",
    "</body>\n",
    "\n",
    "{% endblock %}\n",
    "\n"
   ]
  }
 ],
 "metadata": {
  "kernelspec": {
   "display_name": "Python 3",
   "language": "python",
   "name": "python3"
  },
  "language_info": {
   "codemirror_mode": {
    "name": "ipython",
    "version": 3
   },
   "file_extension": ".py",
   "mimetype": "text/x-python",
   "name": "python",
   "nbconvert_exporter": "python",
   "pygments_lexer": "ipython3",
   "version": "3.6.3"
  }
 },
 "nbformat": 4,
 "nbformat_minor": 2
}
