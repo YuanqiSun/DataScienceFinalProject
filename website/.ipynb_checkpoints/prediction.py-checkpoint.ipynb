{
 "cells": [
  {
   "cell_type": "code",
   "execution_count": null,
   "metadata": {
    "collapsed": true
   },
   "outputs": [],
   "source": [
    "import pandas as pd\n",
    "import numpy as np\n",
    "from sklearn.linear_model import Ridge, LinearRegression, Lasso\n",
    "from sklearn.model_selection import train_test_split\n",
    "from sklearn.preprocessing import StandardScaler\n",
    "from sklearn.base import TransformerMixin\n",
    "import math\n",
    "from scipy.stats import norm\n",
    "\n",
    "def predict_price(x):\n",
    "#    df = pd.read_csv('/home/datascienceteam/mysite/static/AmesHousingBasedonSelectKBestandCorr.csv')\n",
    "    df = pd.read_csv('/home/datascienceteam/mysite/static/data/test.csv')\n",
    "\n",
    "    X = df.drop(['SalePrice'],1)\n",
    "    y = df['SalePrice']\n",
    "\n",
    "    X_train, X_test, y_train, y_test = train_test_split(X, y, test_size=0.2, random_state=42)\n",
    "\n",
    "    X_train = pd.get_dummies(X_train)\n",
    "    y_train = pd.get_dummies(y_train)\n",
    "\n",
    "    lasso = Lasso()\n",
    "    lasso.fit(X_train,y_train)\n",
    "\n",
    "    p = lasso.predict(x)\n",
    "\n",
    "    return p,lasso"
   ]
  }
 ],
 "metadata": {
  "kernelspec": {
   "display_name": "Python 3",
   "language": "python",
   "name": "python3"
  },
  "language_info": {
   "codemirror_mode": {
    "name": "ipython",
    "version": 3
   },
   "file_extension": ".py",
   "mimetype": "text/x-python",
   "name": "python",
   "nbconvert_exporter": "python",
   "pygments_lexer": "ipython3",
   "version": "3.6.3"
  }
 },
 "nbformat": 4,
 "nbformat_minor": 2
}
