{
 "cells": [
  {
   "cell_type": "code",
   "execution_count": null,
   "metadata": {
    "collapsed": true
   },
   "outputs": [],
   "source": [
    "\n",
    "{% extends \"header.html\" %}\n",
    "\n",
    "{% block body %}\n",
    "\n",
    "<body>\n",
    "<div class=\"container\">\n",
    "    <div class=\"col-md-8 order-md-1\">\n",
    "    <br>\n",
    "    <h2 class=\"h3 mb-3 font-weight-normal\">Please sign in</h2>\n",
    "    <br>\n",
    "    <form action=\"\"  method=\"post\">\n",
    "        <input type=\"text\" class=\"form-control\" name=\"username\"  placeholder=\"User name\" value=\"{{request.form.username}}\" required>\n",
    "    <br>\n",
    "        <input type=\"password\" class=\"form-control\" name=\"password\" placeholder=\"Password\" value=\"{{request.form.password}}\" required>\n",
    "    <br>\n",
    "        <input type=\"submit\" class=\"btn btn-default\" value=\"Login\">\n",
    "    </form>\n",
    "\n",
    "    <p>{{ error }}</p>\n",
    "\n",
    "    </div>\n",
    "</div>\n",
    "</body>\n",
    "\n",
    "{% endblock %}\n",
    "\n"
   ]
  }
 ],
 "metadata": {
  "kernelspec": {
   "display_name": "Python 3",
   "language": "python",
   "name": "python3"
  },
  "language_info": {
   "codemirror_mode": {
    "name": "ipython",
    "version": 3
   },
   "file_extension": ".py",
   "mimetype": "text/x-python",
   "name": "python",
   "nbconvert_exporter": "python",
   "pygments_lexer": "ipython3",
   "version": "3.6.3"
  }
 },
 "nbformat": 4,
 "nbformat_minor": 2
}
