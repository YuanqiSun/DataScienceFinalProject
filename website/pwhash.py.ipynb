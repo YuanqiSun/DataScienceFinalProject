{
 "cells": [
  {
   "cell_type": "code",
   "execution_count": null,
   "metadata": {
    "collapsed": true
   },
   "outputs": [],
   "source": [
    "from passlib.hash import sha256_crypt\n",
    "\n",
    "password = sha256_crypt.encrypt(\"password\")\n",
    "password2 = sha256_crypt.encrypt(\"password\")\n",
    "\n",
    "print(password)\n",
    "print(password2)\n",
    "\n",
    "print(sha256_crypt.verify(\"password\",password))\n"
   ]
  }
 ],
 "metadata": {
  "kernelspec": {
   "display_name": "Python 3",
   "language": "python",
   "name": "python3"
  },
  "language_info": {
   "codemirror_mode": {
    "name": "ipython",
    "version": 3
   },
   "file_extension": ".py",
   "mimetype": "text/x-python",
   "name": "python",
   "nbconvert_exporter": "python",
   "pygments_lexer": "ipython3",
   "version": "3.6.3"
  }
 },
 "nbformat": 4,
 "nbformat_minor": 2
}
